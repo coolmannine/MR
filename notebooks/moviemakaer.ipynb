{
  "cells": [
    {
      "cell_type": "code",
      "execution_count": null,
      "metadata": {
        "colab": {
          "base_uri": "https://localhost:8080/"
        },
        "collapsed": true,
        "id": "h7yUnfqg26at",
        "outputId": "8cd9a7fc-189e-4b7e-ef9e-0fc299376a64"
      },
      "outputs": [
        {
          "name": "stdout",
          "output_type": "stream",
          "text": [
            "Collecting anthropic\n",
            "  Downloading anthropic-0.46.0-py3-none-any.whl.metadata (23 kB)\n",
            "Requirement already satisfied: pillow in /usr/local/lib/python3.11/dist-packages (11.1.0)\n",
            "Collecting pydub\n",
            "  Downloading pydub-0.25.1-py2.py3-none-any.whl.metadata (1.4 kB)\n",
            "Requirement already satisfied: moviepy in /usr/local/lib/python3.11/dist-packages (1.0.3)\n",
            "Collecting ffmpeg\n",
            "  Downloading ffmpeg-1.4.tar.gz (5.1 kB)\n",
            "  Preparing metadata (setup.py) ... \u001b[?25l\u001b[?25hdone\n",
            "Requirement already satisfied: anyio<5,>=3.5.0 in /usr/local/lib/python3.11/dist-packages (from anthropic) (3.7.1)\n",
            "Requirement already satisfied: distro<2,>=1.7.0 in /usr/local/lib/python3.11/dist-packages (from anthropic) (1.9.0)\n",
            "Requirement already satisfied: httpx<1,>=0.23.0 in /usr/local/lib/python3.11/dist-packages (from anthropic) (0.28.1)\n",
            "Requirement already satisfied: jiter<1,>=0.4.0 in /usr/local/lib/python3.11/dist-packages (from anthropic) (0.8.2)\n",
            "Requirement already satisfied: pydantic<3,>=1.9.0 in /usr/local/lib/python3.11/dist-packages (from anthropic) (2.10.6)\n",
            "Requirement already satisfied: sniffio in /usr/local/lib/python3.11/dist-packages (from anthropic) (1.3.1)\n",
            "Requirement already satisfied: typing-extensions<5,>=4.10 in /usr/local/lib/python3.11/dist-packages (from anthropic) (4.12.2)\n",
            "Requirement already satisfied: decorator<5.0,>=4.0.2 in /usr/local/lib/python3.11/dist-packages (from moviepy) (4.4.2)\n",
            "Requirement already satisfied: imageio<3.0,>=2.5 in /usr/local/lib/python3.11/dist-packages (from moviepy) (2.37.0)\n",
            "Requirement already satisfied: imageio_ffmpeg>=0.2.0 in /usr/local/lib/python3.11/dist-packages (from moviepy) (0.6.0)\n",
            "Requirement already satisfied: tqdm<5.0,>=4.11.2 in /usr/local/lib/python3.11/dist-packages (from moviepy) (4.67.1)\n",
            "Requirement already satisfied: numpy>=1.17.3 in /usr/local/lib/python3.11/dist-packages (from moviepy) (1.26.4)\n",
            "Requirement already satisfied: requests<3.0,>=2.8.1 in /usr/local/lib/python3.11/dist-packages (from moviepy) (2.32.3)\n",
            "Requirement already satisfied: proglog<=1.0.0 in /usr/local/lib/python3.11/dist-packages (from moviepy) (0.1.10)\n",
            "Requirement already satisfied: idna>=2.8 in /usr/local/lib/python3.11/dist-packages (from anyio<5,>=3.5.0->anthropic) (3.10)\n",
            "Requirement already satisfied: certifi in /usr/local/lib/python3.11/dist-packages (from httpx<1,>=0.23.0->anthropic) (2025.1.31)\n",
            "Requirement already satisfied: httpcore==1.* in /usr/local/lib/python3.11/dist-packages (from httpx<1,>=0.23.0->anthropic) (1.0.7)\n",
            "Requirement already satisfied: h11<0.15,>=0.13 in /usr/local/lib/python3.11/dist-packages (from httpcore==1.*->httpx<1,>=0.23.0->anthropic) (0.14.0)\n",
            "Requirement already satisfied: annotated-types>=0.6.0 in /usr/local/lib/python3.11/dist-packages (from pydantic<3,>=1.9.0->anthropic) (0.7.0)\n",
            "Requirement already satisfied: pydantic-core==2.27.2 in /usr/local/lib/python3.11/dist-packages (from pydantic<3,>=1.9.0->anthropic) (2.27.2)\n",
            "Requirement already satisfied: charset-normalizer<4,>=2 in /usr/local/lib/python3.11/dist-packages (from requests<3.0,>=2.8.1->moviepy) (3.4.1)\n",
            "Requirement already satisfied: urllib3<3,>=1.21.1 in /usr/local/lib/python3.11/dist-packages (from requests<3.0,>=2.8.1->moviepy) (2.3.0)\n",
            "Downloading anthropic-0.46.0-py3-none-any.whl (223 kB)\n",
            "\u001b[2K   \u001b[90m━━━━━━━━━━━━━━━━━━━━━━━━━━━━━━━━━━━━━━━━\u001b[0m \u001b[32m223.2/223.2 kB\u001b[0m \u001b[31m9.6 MB/s\u001b[0m eta \u001b[36m0:00:00\u001b[0m\n",
            "\u001b[?25hDownloading pydub-0.25.1-py2.py3-none-any.whl (32 kB)\n",
            "Building wheels for collected packages: ffmpeg\n",
            "  Building wheel for ffmpeg (setup.py) ... \u001b[?25l\u001b[?25hdone\n",
            "  Created wheel for ffmpeg: filename=ffmpeg-1.4-py3-none-any.whl size=6082 sha256=7a79171adeb56dbc12731775822c7dc2cd9b33f19c38753f77e1cf60f9e5bfe7\n",
            "  Stored in directory: /root/.cache/pip/wheels/56/30/c5/576bdd729f3bc062d62a551be7fefd6ed2f761901568171e4e\n",
            "Successfully built ffmpeg\n",
            "Installing collected packages: pydub, ffmpeg, anthropic\n",
            "Successfully installed anthropic-0.46.0 ffmpeg-1.4 pydub-0.25.1\n"
          ]
        }
      ],
      "source": [
        "!pip install anthropic pillow pydub moviepy ffmpeg"
      ]
    },
    {
      "cell_type": "code",
      "execution_count": null,
      "metadata": {
        "colab": {
          "base_uri": "https://localhost:8080/"
        },
        "id": "eYYL4a52OZ_Z",
        "outputId": "e5fa1c2e-2f99-4604-b82b-335b1850d877"
      },
      "outputs": [
        {
          "name": "stdout",
          "output_type": "stream",
          "text": [
            "Requirement already satisfied: pydub in /usr/local/lib/python3.11/dist-packages (0.25.1)\n"
          ]
        }
      ],
      "source": [
        "!pip install --upgrade pydub  "
      ]
    },
    {
      "cell_type": "code",
      "execution_count": null,
      "metadata": {
        "colab": {
          "base_uri": "https://localhost:8080/"
        },
        "id": "p3DYP_932w62",
        "outputId": "b9458dbb-c96f-496c-bd62-143c9c8945a8"
      },
      "outputs": [
        {
          "name": "stdout",
          "output_type": "stream",
          "text": [
            "✅ Successfully unzipped content\n"
          ]
        }
      ],
      "source": []
    },
    {
      "cell_type": "code",
      "execution_count": null,
      "metadata": {
        "colab": {
          "base_uri": "https://localhost:8080/"
        },
        "id": "fx3TVi2Y79nV",
        "outputId": "1f3eed14-1f30-42a1-9716-54613cff0da3"
      },
      "outputs": [
        {
          "name": "stdout",
          "output_type": "stream",
          "text": [
            "✅ Successfully unzipped content\n"
          ]
        }
      ],
      "source": [
        "import zipfile\n",
        "import os\n",
        "\n",
        "def unzip_content():\n",
        "\n",
        "    if os.path.exists('/content/chapters.zip'):\n",
        "        with zipfile.ZipFile('/content/chapters.zip', 'r') as zip_ref:\n",
        "            zip_ref.extractall('/content')\n",
        "        print(\"✅ Successfully unzipped content\")\n",
        "    else:\n",
        "        raise FileNotFoundError(\"content.zip not found in /content directory\")\n",
        "\n",
        "\n",
        "unzip_content()"
      ]
    },
    {
      "cell_type": "code",
      "execution_count": null,
      "metadata": {
        "colab": {
          "base_uri": "https://localhost:8080/"
        },
        "id": "_8CyFNqqcr-z",
        "outputId": "ae9a4c1e-88f9-4905-8066-478fd19a6632"
      },
      "outputs": [
        {
          "name": "stdout",
          "output_type": "stream",
          "text": [
            "Drive already mounted at /content/drive; to attempt to forcibly remount, call drive.mount(\"/content/drive\", force_remount=True).\n",
            "\n",
            "📖 Processing Chapter 1\n",
            "🎬 Creating video for Chapter 1...\n",
            "Moviepy - Building video /content/temp_chapter1.mp4.\n",
            "MoviePy - Writing audio in temp_chapter1TEMP_MPY_wvf_snd.mp4\n"
          ]
        },
        {
          "name": "stderr",
          "output_type": "stream",
          "text": []
        },
        {
          "name": "stdout",
          "output_type": "stream",
          "text": [
            "MoviePy - Done.\n",
            "Moviepy - Writing video /content/temp_chapter1.mp4\n",
            "\n"
          ]
        },
        {
          "name": "stderr",
          "output_type": "stream",
          "text": []
        },
        {
          "name": "stdout",
          "output_type": "stream",
          "text": [
            "Moviepy - Done !\n",
            "Moviepy - video ready /content/temp_chapter1.mp4\n",
            "🚀 Converting Chapter 1 with FFmpeg...\n",
            "✅ Chapter 1 saved to Google Drive in `videos` folder!\n"
          ]
        }
      ],
      "source": [
        "import os\n",
        "import json\n",
        "import subprocess\n",
        "import concurrent.futures\n",
        "from moviepy.editor import *\n",
        "from google.colab import drive\n",
        "\n",
        "\n",
        "drive.mount('/content/drive')\n",
        "\n",
        "\n",
        "audio_dir = \"/content/audio\"\n",
        "timepoints_dir = \"/content/timepoints\"\n",
        "chapters_dir = \"/content/chapters\"\n",
        "output_dir = \"/content/drive/My Drive/videos\" \n",
        "\n",
        "os.makedirs(output_dir, exist_ok=True)\n",
        "\n",
        "def load_timepoints(timepoints_path):\n",
        "    \"\"\"Load and parse timepoints from JSON file.\"\"\"\n",
        "    with open(timepoints_path, 'r') as f:\n",
        "        timepoints = json.load(f)\n",
        "    timepoints.sort(key=lambda x: x['timeSeconds'])\n",
        "    return [point['timeSeconds'] for point in timepoints]\n",
        "\n",
        "def create_chapter_video(chapter_num):\n",
        "    \"\"\"\n",
        "    Creates a video with precise timing and exports using FFmpeg.\n",
        "    \"\"\"\n",
        "    print(f\"\\n📖 Processing Chapter {chapter_num}\")\n",
        "\n",
        "    # Define paths\n",
        "    audio_path = os.path.join(audio_dir, f\"chapter{chapter_num}.mp3\")\n",
        "    timepoints_path = os.path.join(timepoints_dir, f\"chapter{chapter_num}.json\")\n",
        "    img_folder = os.path.join(chapters_dir, f\"chapter{chapter_num}\")\n",
        "    temp_video_path = f\"/content/temp_chapter{chapter_num}.mp4\"\n",
        "    output_path = os.path.join(output_dir, f\"chapter{chapter_num}.mp4\")  # 🔥 Save to Google Drive\n",
        "\n",
        "\n",
        "    if not os.path.exists(audio_path) or not os.path.exists(timepoints_path):\n",
        "        print(f\"Missing files for Chapter {chapter_num}\")\n",
        "        return\n",
        "\n",
        "\n",
        "    audio_clip = AudioFileClip(audio_path)\n",
        "    total_duration = audio_clip.duration\n",
        "\n",
        "\n",
        "    transitions = load_timepoints(timepoints_path)\n",
        "\n",
        "\n",
        "    images = sorted(\n",
        "        [os.path.join(img_folder, f) for f in os.listdir(img_folder) if f[0].isdigit()],\n",
        "        key=lambda x: int(os.path.basename(x).split('-')[0])\n",
        "    )\n",
        "\n",
        "\n",
        "    num_images = len(images)\n",
        "    num_transitions = len(transitions)\n",
        "\n",
        "    if num_images == 0:\n",
        "        print(f\"❌ No images found for Chapter {chapter_num}\")\n",
        "        return\n",
        "\n",
        "\n",
        "    if num_images < num_transitions:\n",
        "        transitions = transitions[:num_images]\n",
        "\n",
        "\n",
        "    transitions.insert(0, 0) \n",
        "    transitions.append(total_duration)  \n",
        "\n",
        "    clips = []\n",
        "    for i in range(len(transitions) - 1):\n",
        "        if i >= len(images):  \n",
        "            break\n",
        "\n",
        "        start_time = transitions[i]\n",
        "        end_time = transitions[i + 1]\n",
        "        duration = end_time - start_time\n",
        "\n",
        "        if duration > 0:\n",
        "            img_clip = ImageClip(images[i]).set_start(start_time).set_duration(duration)\n",
        "            clips.append(img_clip)\n",
        "\n",
        "\n",
        "    print(f\"🎬 Creating video for Chapter {chapter_num}...\")\n",
        "    video = CompositeVideoClip(clips, size=clips[0].size)\n",
        "    video = video.set_audio(audio_clip).set_duration(total_duration)\n",
        "\n",
        "\n",
        "    video.write_videofile(\n",
        "        temp_video_path,\n",
        "        fps=10, codec=\"libx264\", audio_codec=\"aac\",\n",
        "        preset=\"ultrafast\", threads=os.cpu_count()\n",
        "    )\n",
        "\n",
        "    video.close()\n",
        "    audio_clip.close()\n",
        "\n",
        "\n",
        "    print(f\"Converting Chapter {chapter_num} \")\n",
        "    ffmpeg_cmd = [\n",
        "        \"ffmpeg\", \"-y\", \"-threads\", str(os.cpu_count()),\n",
        "        \"-i\", temp_video_path,\n",
        "        \"-i\", audio_path,\n",
        "        \"-c:v\", \"libx264\", \"-preset\", \"ultrafast\", \"-crf\", \"23\",\n",
        "        \"-c:a\", \"aac\", \"-b:a\", \"192k\",\n",
        "        \"-shortest\", output_path\n",
        "    ]\n",
        "    subprocess.run(ffmpeg_cmd, check=True)\n",
        "\n",
        "\n",
        "    os.remove(temp_video_path)\n",
        "\n",
        "    print(f\"Chapter {chapter_num} saved to Google Drive in `videos` folder!\")\n",
        "\n",
        "def main():\n",
        "\n",
        "    chapters = [\n",
        "        int(filename[7:-4])\n",
        "        for filename in sorted(os.listdir(audio_dir))\n",
        "        if filename.startswith(\"chapter\") and filename.endswith(\".mp3\")\n",
        "    ]\n",
        "\n",
        "\n",
        "    with concurrent.futures.ProcessPoolExecutor() as executor:\n",
        "        futures = [executor.submit(create_chapter_video, ch) for ch in chapters]\n",
        "        for future in concurrent.futures.as_completed(futures):\n",
        "            try:\n",
        "                future.result()\n",
        "            except Exception as e:\n",
        "                print(f\"Error processing chapter: {str(e)}\")\n",
        "\n",
        "if __name__ == \"__main__\":\n",
        "    main()\n"
      ]
    }
  ],
  "metadata": {
    "colab": {
      "provenance": []
    },
    "kernelspec": {
      "display_name": "Python 3",
      "name": "python3"
    },
    "language_info": {
      "name": "python"
    }
  },
  "nbformat": 4,
  "nbformat_minor": 0
}
